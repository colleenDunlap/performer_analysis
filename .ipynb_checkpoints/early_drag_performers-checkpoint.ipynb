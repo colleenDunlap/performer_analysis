{
 "cells": [
  {
   "cell_type": "code",
   "execution_count": 1,
   "id": "5cc960b6-551d-44f0-aef3-754984a3effa",
   "metadata": {},
   "outputs": [],
   "source": [
    "import pandas as pd"
   ]
  },
  {
   "cell_type": "code",
   "execution_count": 8,
   "id": "fdbd2e62-a275-48e1-8ee6-983045cd2661",
   "metadata": {},
   "outputs": [
    {
     "name": "stdout",
     "output_type": "stream",
     "text": [
      "                   >>> 1920s and 1930s - Pansy Craze Unnamed: 1 Unnamed: 2  \\\n",
      "0  Karyl Norman    Pansy Club (48th St/Broadway) ...        NaN        NaN   \n",
      "1  Karyl Norman    Pansy Club                    ...        NaN        NaN   \n",
      "2  Francis Renault Everglades                    ...        NaN        NaN   \n",
      "3  Max Below       Pansy Club                    ...        NaN        NaN   \n",
      "4  Louis Edestein  Club Calais                   ...        NaN        NaN   \n",
      "\n",
      "  Unnamed: 3 Unnamed: 4 Unnamed: 5 Unnamed: 6 Unnamed: 7 Unnamed: 8  \\\n",
      "0        NaN        NaN        NaN        NaN        NaN        NaN   \n",
      "1        NaN        NaN        NaN        NaN        NaN        NaN   \n",
      "2        NaN        NaN        NaN        NaN        NaN        NaN   \n",
      "3        NaN        NaN        NaN        NaN        NaN        NaN   \n",
      "4        NaN        NaN        NaN        NaN        NaN        NaN   \n",
      "\n",
      "  Unnamed: 9 Unnamed: 10 Unnamed: 11 Unnamed: 12 Unnamed: 13 Unnamed: 14  \n",
      "0        NaN         NaN         NaN         NaN         NaN         NaN  \n",
      "1        NaN         NaN         NaN         NaN         NaN         NaN  \n",
      "2        NaN         NaN         NaN         NaN         NaN         NaN  \n",
      "3        NaN         NaN         NaN         NaN         NaN         NaN  \n",
      "4        NaN         NaN         NaN         NaN         NaN         NaN  \n"
     ]
    }
   ],
   "source": [
    "#utilizing Kalle Westerling's datasets of early female impersonators\n",
    "url = \"https://raw.githubusercontent.com/kallewesterling/early-female-impersonators/refs/heads/master/data/additional%20manually%20processed.txt\"\n",
    "df = pd.read_fwf(url, header=0)\n",
    "print(df.head(5))"
   ]
  },
  {
   "cell_type": "code",
   "execution_count": null,
   "id": "ae8e4e95-edd5-4449-bf08-37bec0d491fe",
   "metadata": {},
   "outputs": [],
   "source": []
  }
 ],
 "metadata": {
  "kernelspec": {
   "display_name": "Python 3 (ipykernel)",
   "language": "python",
   "name": "python3"
  },
  "language_info": {
   "codemirror_mode": {
    "name": "ipython",
    "version": 3
   },
   "file_extension": ".py",
   "mimetype": "text/x-python",
   "name": "python",
   "nbconvert_exporter": "python",
   "pygments_lexer": "ipython3",
   "version": "3.13.2"
  }
 },
 "nbformat": 4,
 "nbformat_minor": 5
}
