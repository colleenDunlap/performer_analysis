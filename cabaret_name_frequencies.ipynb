{
 "cells": [
  {
   "cell_type": "code",
   "execution_count": 1,
   "id": "0a16c3ec-3bad-4a74-9707-1026155b4fff",
   "metadata": {},
   "outputs": [
    {
     "data": {
      "text/plain": [
       "'\\ncabaret names analysis\\n\\nMy students will often ask me if their stage name is \"too basic.\" This is an unbiased, data-driven way \\nto tell them if their name is overdone or not\\n'"
      ]
     },
     "execution_count": 1,
     "metadata": {},
     "output_type": "execute_result"
    }
   ],
   "source": [
    "'''\n",
    "cabaret names analysis\n",
    "\n",
    "My students will often ask me if their stage name is \"too basic.\" This is an unbiased, data-driven way \n",
    "to tell them if their name is overdone or not\n",
    "'''"
   ]
  },
  {
   "cell_type": "code",
   "execution_count": 71,
   "id": "0f8f4c85-8ad5-4443-8491-8a2e45fd5cc7",
   "metadata": {},
   "outputs": [
    {
     "name": "stderr",
     "output_type": "stream",
     "text": [
      "Matplotlib is building the font cache; this may take a moment.\n"
     ]
    }
   ],
   "source": [
    "import pandas as pd\n",
    "from collections import defaultdict\n",
    "import matplotlib.pyplot as plt\n",
    "import numpy as np"
   ]
  },
  {
   "cell_type": "code",
   "execution_count": 6,
   "id": "c48189b4-8c85-4946-a612-e69918c4887a",
   "metadata": {},
   "outputs": [
    {
     "name": "stdout",
     "output_type": "stream",
     "text": [
      "                    name                 troupe              city  \\\n",
      "0             Lola Viola                    NaN            Darwin   \n",
      "1         Sabre De Light                    NaN          Adelaide   \n",
      "2     Lucilla Le Strange                    NaN          Adelaide   \n",
      "3               Curvella                    NaN          Adelaide   \n",
      "4       Delilah Dollbaby                    NaN            Sydney   \n",
      "...                  ...                    ...               ...   \n",
      "3867        Calypso Noir                    NaN            Dallas   \n",
      "3868           Vye Vardo  Fort Wayne Bombshells        Fort Wayne   \n",
      "3869         Roxy Horror                    NaN       Thunder Bay   \n",
      "3870        Holly Fatale                    NaN  Australia Plains   \n",
      "3871         Brooke Bird                    NaN               NaN   \n",
      "\n",
      "            country           created_at           updated_at            state  \n",
      "0         Australia   2023-12-31 9:56:44   2023-12-31 9:56:44              NaN  \n",
      "1         Australia   2023-12-31 9:56:46   2023-12-31 9:56:46              NaN  \n",
      "2         Australia   2023-12-31 9:56:49   2023-12-31 9:56:49              NaN  \n",
      "3         Australia   2023-12-31 9:56:51   2023-12-31 9:56:51              NaN  \n",
      "4         Australia   2023-12-31 9:56:59   2023-12-31 9:56:59              NaN  \n",
      "...             ...                  ...                  ...              ...  \n",
      "3867  United States  2025-03-04 16:12:31  2025-03-30 20:12:16            Texas  \n",
      "3868  United States  2025-03-30 23:39:00  2025-03-30 23:39:00          Indiana  \n",
      "3869         Canada   2025-03-31 1:13:45   2025-03-31 1:13:45          Ontario  \n",
      "3870      Australia   2025-03-31 1:41:26   2025-03-31 1:41:26  South Australia  \n",
      "3871            NaN   2025-03-31 1:48:44   2025-03-31 1:51:39              NaN  \n",
      "\n",
      "[3872 rows x 7 columns]\n"
     ]
    }
   ],
   "source": [
    "df_names = pd.read_csv('CabaretRegistry.csv')\n",
    "print(df_names)"
   ]
  },
  {
   "cell_type": "code",
   "execution_count": 100,
   "id": "d823df43-dbe5-481a-b042-5cd8b9704227",
   "metadata": {},
   "outputs": [],
   "source": [
    "#take tally of appearance of name parts split on space key\n",
    "name_parts_dict = defaultdict(int)\n",
    "first_names_dict = defaultdict(int)\n",
    "last_names_dict = defaultdict(int)\n",
    "full_names_dict = defaultdict(int)"
   ]
  },
  {
   "cell_type": "code",
   "execution_count": 101,
   "id": "3e87a30c-e1f6-4ff2-aba5-d51b2bef6fa2",
   "metadata": {},
   "outputs": [
    {
     "name": "stdout",
     "output_type": "stream",
     "text": [
      "13\n",
      "3859\n"
     ]
    }
   ],
   "source": [
    "nnull = 0\n",
    "for row in df_names.itertuples():\n",
    "    full_name = row.name\n",
    "    if pd.isna(full_name):\n",
    "        nnull+=1\n",
    "        continue   \n",
    "    full_names_dict[full_name] += 1\n",
    "    name_parts = row.name.split(' ')\n",
    "    first_names[name_parts[0].lower()] += 1\n",
    "    for name in name_parts:\n",
    "        name_parts_dict[name.lower()] +=1\n",
    "    last_names_dict[name_parts[len(name_parts)-1].lower()] += 1\n",
    "print(nnull)\n",
    "total_names = len(df_names)-13\n",
    "print(total_names)"
   ]
  },
  {
   "cell_type": "code",
   "execution_count": 102,
   "id": "351ce4df-1568-4efc-9530-e02bf7afe769",
   "metadata": {},
   "outputs": [],
   "source": [
    "sorted_name_parts = dict(sorted(name_parts_dict.items(), key=lambda item: item[1], reverse=True))\n",
    "sorted_full_names = dict(sorted(full_names_dict.items(), key=lambda item: item[1], reverse=True))"
   ]
  },
  {
   "cell_type": "code",
   "execution_count": 111,
   "id": "5d99aed8-5551-4d17-809a-90423d8d0a56",
   "metadata": {},
   "outputs": [
    {
     "name": "stdout",
     "output_type": "stream",
     "text": [
      "('miss', 105)\n",
      "('la', 75)\n",
      "('von', 60)\n",
      "('the', 59)\n",
      "('lady', 57)\n",
      "('de', 55)\n",
      "('rose', 50)\n",
      "('ruby', 40)\n",
      "('kitty', 40)\n",
      "('violet', 25)\n",
      "('honey', 24)\n",
      "('cherry', 23)\n",
      "('belle', 23)\n",
      "('bella', 22)\n",
      "('betty', 21)\n",
      "('noir', 21)\n",
      "('rosie', 21)\n",
      "('darling', 20)\n",
      "('lola', 19)\n",
      "('siren', 19)\n",
      "('scarlett', 19)\n",
      "('mae', 18)\n",
      "('luna', 18)\n",
      "('pearl', 17)\n",
      "('doll', 17)\n",
      "('ivy', 17)\n"
     ]
    }
   ],
   "source": [
    "ntop = 25\n",
    "itop = 0\n",
    "names = []\n",
    "vols = []\n",
    "for item in sorted_name_parts.items():\n",
    "    if itop>ntop:\n",
    "        break\n",
    "    names.insert(0,item[0])\n",
    "    vols.insert(0,item[1])\n",
    "    itop+=1\n",
    "    print(item)\n",
    "    "
   ]
  },
  {
   "cell_type": "code",
   "execution_count": 112,
   "id": "89652926-3fcc-475e-8c00-7cfbc970d1f2",
   "metadata": {},
   "outputs": [
    {
     "data": {
      "image/png": "[encoded data removed]",
      "text/plain": [
       "<Figure size 640x480 with 1 Axes>"
      ]
     },
     "metadata": {},
     "output_type": "display_data"
    }
   ],
   "source": [
    "plt.barh(names, vols)\n",
    "\n",
    "# Add labels and title\n",
    "plt.xlabel('Frequency')\n",
    "plt.ylabel('Names')\n",
    "plt.title('Most Frequent Name Parts')\n",
    "\n",
    "# Display the chart\n",
    "plt.show()"
   ]
  },
  {
   "cell_type": "code",
   "execution_count": 110,
   "id": "ac628dd4-263f-4582-a8a6-7358e444fca5",
   "metadata": {},
   "outputs": [
    {
     "name": "stdout",
     "output_type": "stream",
     "text": [
      "('Jazmin Varlet', 5)\n",
      "('Jennay SeKwa', 3)\n",
      "('Sara James', 3)\n",
      "('Anita Tool', 3)\n",
      "('Lucilla Le Strange', 2)\n",
      "('Curvella', 2)\n",
      "('Frenchie Darling', 2)\n",
      "('Mimi LeGrand', 2)\n",
      "('Siren Song', 2)\n",
      "('Layna D’Luna', 2)\n",
      "('Marina Elaine', 2)\n",
      "('Stormy September', 2)\n",
      "('Immodesty Pink Princess', 2)\n",
      "('Ebony Delight', 2)\n",
      "('Amber Lust', 2)\n",
      "(\"Diamond D'Light\", 2)\n",
      "('Veronica Vengeance', 2)\n",
      "('Vena Kahlo', 2)\n",
      "('Ellie Cerceaux', 2)\n",
      "('Gemmi Galactic', 2)\n",
      "('Lilith Allure', 2)\n",
      "('Miss Brawling Beauty', 2)\n",
      "('Pearl E. Gates', 2)\n",
      "('Princ X Switchblade', 2)\n",
      "('Lady Marionette', 2)\n",
      "('Baby Jayne LaBelle', 2)\n",
      "('Stella Sapphire', 2)\n",
      "('Mama Merkin', 2)\n",
      "('Lia Lava', 2)\n",
      "('Helena Zuul', 2)\n",
      "('Sabor Insanity', 2)\n",
      "('Luna Phaze', 2)\n",
      "('Texas Toasthands', 2)\n",
      "('Rachel Riot', 2)\n",
      "('Violet Passion', 2)\n",
      "('Boom Boom Bathory', 2)\n",
      "('Noir Bastet', 2)\n",
      "('Penny Rebel', 2)\n",
      "('Meredith Sparkles', 2)\n",
      "('Poppy la Fae', 2)\n",
      "('Oblivion Rose', 2)\n",
      "('Lilith', 2)\n",
      "('Yzma Mind', 2)\n",
      "('Sohla Flaire', 2)\n",
      "('Elle Gold', 2)\n",
      "('Champagne Holiday', 2)\n",
      "('Mathis Menagerie', 2)\n",
      "('The Pfeiffer Twins', 2)\n",
      "('Paige Turner', 2)\n",
      "('Robin Coffins', 2)\n",
      "('Leyn Leviathan', 2)\n",
      "('Mona Montague', 2)\n",
      "('Riskie Dixie', 2)\n",
      "('Phoenyx Fyre', 2)\n",
      "('Roxxi Rose', 2)\n",
      "('Starfire', 2)\n",
      "('Jojo Jezebel', 2)\n",
      "('Nico De Gallo', 2)\n",
      "('Titania McGee', 2)\n",
      "('Sorpresa Sensual', 2)\n",
      "('Pixie Twinkle', 2)\n",
      "('Isadora La Fae', 2)\n",
      "('Amanita Coffyn', 2)\n",
      "('Lalita Shiraz', 2)\n",
      "('Oestra Doll', 2)\n",
      "('Ruby Riot', 2)\n"
     ]
    }
   ],
   "source": [
    "#duplicate names, wonder if they're actually unique\n",
    "ntop = 65\n",
    "itop = 0\n",
    "names = []\n",
    "vols = []\n",
    "for item in sorted_full_names.items():\n",
    "    if itop>ntop:\n",
    "        break\n",
    "    names.insert(0,item[0])\n",
    "    vols.insert(0,item[1])\n",
    "    itop+=1\n",
    "    print(item)"
   ]
  },
  {
   "cell_type": "code",
   "execution_count": null,
   "id": "35ce3c79-0306-4d8a-8c3c-0db4cdd39a37",
   "metadata": {},
   "outputs": [],
   "source": []
  }
 ],
 "metadata": {
  "kernelspec": {
   "display_name": "Python 3 (ipykernel)",
   "language": "python",
   "name": "python3"
  },
  "language_info": {
   "codemirror_mode": {
    "name": "ipython",
    "version": 3
   },
   "file_extension": ".py",
   "mimetype": "text/x-python",
   "name": "python",
   "nbconvert_exporter": "python",
   "pygments_lexer": "ipython3",
   "version": "3.13.2"
  }
 },
 "nbformat": 4,
 "nbformat_minor": 5
}
